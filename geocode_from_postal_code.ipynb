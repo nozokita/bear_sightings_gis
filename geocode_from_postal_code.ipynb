{
 "cells": [
  {
   "cell_type": "code",
   "execution_count": 4,
   "metadata": {},
   "outputs": [
    {
     "name": "stdout",
     "output_type": "stream",
     "text": [
      "      都道府県名   市区町村名         町域名\n",
      "41235  神奈川県  横浜市鶴見区  以下に掲載がない場合\n",
      "41236  神奈川県  横浜市鶴見区         朝日町\n",
      "41237  神奈川県  横浜市鶴見区         安善町\n",
      "41238  神奈川県  横浜市鶴見区        市場上町\n",
      "41239  神奈川県  横浜市鶴見区        市場下町\n",
      "41240  神奈川県  横浜市鶴見区       市場東中町\n",
      "41241  神奈川県  横浜市鶴見区       市場西中町\n",
      "41242  神奈川県  横浜市鶴見区      市場富士見町\n",
      "41243  神奈川県  横浜市鶴見区       市場大和町\n",
      "41244  神奈川県  横浜市鶴見区         潮田町\n",
      "6199 rows\n"
     ]
    }
   ],
   "source": [
    "import pandas as pd\n",
    "\n",
    "def process_postal_data(postal_csv_path: str, target_prefectures: list) -> pd.DataFrame:\n",
    "    \"\"\"\n",
    "    郵便番号データを読み込み、指定された県のみを抽出して\n",
    "    {都道府県名, 市区町村名, 町域名} の DataFrame を返す\n",
    "    \"\"\"\n",
    "    # エンコーディングは環境やファイルによって異なる可能性あり\n",
    "    # utf-8 / utf-8-sig / cp932 / shift_jis などを適宜指定\n",
    "    df = pd.read_csv(postal_csv_path, encoding='utf-8', header=None, dtype=str)\n",
    "    \n",
    "    # KEN_ALL.CSV (15列) の想定カラム\n",
    "    df.columns = [\n",
    "        'JISX0401_2',             # 0: 全国地方公共団体コード\n",
    "        'old_postal',             # 1: （旧）郵便番号（5桁）\n",
    "        'postal',                 # 2: 郵便番号（7桁）\n",
    "        'pref_kana',             # 3: 都道府県名カナ\n",
    "        'city_kana',             # 4: 市区町村名カナ\n",
    "        'area_kana',             # 5: 町域名カナ\n",
    "        '都道府県名',             # 6: 都道府県名（漢字）\n",
    "        '市区町村名',             # 7: 市区町村名（漢字）\n",
    "        '町域名',                 # 8: 町域名（漢字）\n",
    "        'multi_postal_flag',     # 9: 一町域が二以上の郵便番号で表される場合の表示\n",
    "        'splitted_kouaza_flag',  # 10: 小字毎に番地が起番されている町域の表示\n",
    "        'has_chome_flag',        # 11: 丁目を有する町域の場合の表示\n",
    "        'multi_town_flag',       # 12: 一つの郵便番号で二以上の町域を表す場合\n",
    "        'update_flag',           # 13: 更新の表示 (0,1,2)\n",
    "        'update_reason'          # 14: 変更理由 (0～6)\n",
    "    ]\n",
    "    \n",
    "    # 指定県だけ抽出 (漢字の都道府県名列が '都道府県名')\n",
    "    df_filtered = df[df['都道府県名'].isin(target_prefectures)]\n",
    "    \n",
    "    # 重複削除 (市区町村名 + 町域名 が重複している行をまとめる)\n",
    "    df_filtered = df_filtered[['都道府県名','市区町村名','町域名']].drop_duplicates()\n",
    "    return df_filtered\n",
    "\n",
    "# 例: 静岡・山梨・神奈川の町域リストを作る\n",
    "target_prefs = ['静岡県', '山梨県', '神奈川県']\n",
    "df_areas = process_postal_data('utf_ken_all.csv', target_prefs)\n",
    "\n",
    "print(df_areas.head(10))\n",
    "print(len(df_areas), 'rows')\n"
   ]
  },
  {
   "cell_type": "code",
   "execution_count": 5,
   "metadata": {},
   "outputs": [
    {
     "name": "stdout",
     "output_type": "stream",
     "text": [
      "座標キャッシュを作成しました: areas_with_coords.yml\n"
     ]
    }
   ],
   "source": [
    "import requests\n",
    "import time\n",
    "import yaml\n",
    "\n",
    "def geocode_from_gsi(pref: str, city: str, area: str) -> dict:\n",
    "    \"\"\"国土地理院APIで住所(都道府県+市区町村+町域)を検索し、座標を返す\"\"\"\n",
    "    address_str = f\"{pref}{city}{area}\"\n",
    "    url = f\"https://msearch.gsi.go.jp/address-search/AddressSearch?q={address_str}\"\n",
    "    try:\n",
    "        r = requests.get(url)\n",
    "        data = r.json()\n",
    "        if data:\n",
    "            coords = data[0]['geometry']['coordinates']  # [lon, lat]\n",
    "            return {'longitude': coords[0], 'latitude': coords[1]}\n",
    "        else:\n",
    "            return {'longitude': None, 'latitude': None}\n",
    "    except:\n",
    "        return {'longitude': None, 'latitude': None}\n",
    "\n",
    "def create_geo_cache(df_areas: pd.DataFrame, output_yaml='areas_with_coords.yml'):\n",
    "    \"\"\"\n",
    "    町域の一覧DFから座標を一括取得し、\n",
    "    {\n",
    "      \"静岡県\": {\n",
    "        \"富士宮市\": {\n",
    "          \"佐折\": {\"longitude\": 138.xxx, \"latitude\": 35.xxx},\n",
    "          ...\n",
    "        },\n",
    "        ...\n",
    "      },\n",
    "      \"山梨県\": ...\n",
    "      \"神奈川県\": ...\n",
    "    }\n",
    "    のような形で yaml に保存する。\n",
    "    \"\"\"\n",
    "    cache_dict = {}\n",
    "    \n",
    "    for idx, row in df_areas.iterrows():\n",
    "        pref = row['都道府県名']\n",
    "        city = row['市区町村名']\n",
    "        area = row['町域名']\n",
    "        \n",
    "        if pref not in cache_dict:\n",
    "            cache_dict[pref] = {}\n",
    "        if city not in cache_dict[pref]:\n",
    "            cache_dict[pref][city] = {}\n",
    "        \n",
    "        coords = geocode_from_gsi(pref, city, area)\n",
    "        cache_dict[pref][city][area] = coords\n",
    "        \n",
    "        # レートリミットを考慮\n",
    "        time.sleep(1)\n",
    "    \n",
    "    with open(output_yaml, 'w', encoding='utf-8') as f:\n",
    "        yaml.dump(cache_dict, f, allow_unicode=True)\n",
    "    print(f\"座標キャッシュを作成しました: {output_yaml}\")\n",
    "\n",
    "# 実行\n",
    "create_geo_cache(df_areas, 'areas_with_coords.yml')\n"
   ]
  },
  {
   "cell_type": "code",
   "execution_count": null,
   "metadata": {},
   "outputs": [],
   "source": []
  }
 ],
 "metadata": {
  "kernelspec": {
   "display_name": "Python 3",
   "language": "python",
   "name": "python3"
  },
  "language_info": {
   "codemirror_mode": {
    "name": "ipython",
    "version": 3
   },
   "file_extension": ".py",
   "mimetype": "text/x-python",
   "name": "python",
   "nbconvert_exporter": "python",
   "pygments_lexer": "ipython3",
   "version": "3.12.1"
  }
 },
 "nbformat": 4,
 "nbformat_minor": 2
}
